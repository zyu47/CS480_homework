{
 "cells": [
  {
   "cell_type": "markdown",
   "metadata": {},
   "source": [
    "$\\newcommand{\\xv}{\\mathbf{x}}\n",
    "\\newcommand{\\Xv}{\\mathbf{X}}\n",
    "\\newcommand{\\yv}{\\mathbf{y}}\n",
    "\\newcommand{\\zv}{\\mathbf{z}}\n",
    "\\newcommand{\\av}{\\mathbf{a}}\n",
    "\\newcommand{\\Wv}{\\mathbf{W}}\n",
    "\\newcommand{\\wv}{\\mathbf{w}}\n",
    "\\newcommand{\\tv}{\\mathbf{t}}\n",
    "\\newcommand{\\Tv}{\\mathbf{T}}\n",
    "\\newcommand{\\muv}{\\boldsymbol{\\mu}}\n",
    "\\newcommand{\\sigmav}{\\boldsymbol{\\sigma}}\n",
    "\\newcommand{\\phiv}{\\boldsymbol{\\phi}}\n",
    "\\newcommand{\\Phiv}{\\boldsymbol{\\Phi}}\n",
    "\\newcommand{\\Sigmav}{\\boldsymbol{\\Sigma}}\n",
    "\\newcommand{\\Lambdav}{\\boldsymbol{\\Lambda}}\n",
    "\\newcommand{\\half}{\\frac{1}{2}}\n",
    "\\newcommand{\\argmax}[1]{\\underset{#1}{\\operatorname{argmax}}}\n",
    "\\newcommand{\\argmin}[1]{\\underset{#1}{\\operatorname{argmin}}}$"
   ]
  },
  {
   "cell_type": "markdown",
   "metadata": {},
   "source": [
    "# Assignment 1: Linear Regression"
   ]
  },
  {
   "cell_type": "markdown",
   "metadata": {},
   "source": [
    "Zhixian (Jason) Yu"
   ]
  },
  {
   "cell_type": "markdown",
   "metadata": {},
   "source": [
    "## Overview"
   ]
  },
  {
   "cell_type": "markdown",
   "metadata": {},
   "source": [
    "**Objective:**  To use linear regression to model housing values in suburbs of Boston.\n",
    "\n",
    "**Method:**  Linear model using a least square regression\n",
    "\n",
    "**Data source:** http://archive.ics.uci.edu/ml/machine-learning-databases/housing/"
   ]
  },
  {
   "cell_type": "markdown",
   "metadata": {},
   "source": [
    "## Method"
   ]
  },
  {
   "cell_type": "markdown",
   "metadata": {},
   "source": [
    "Include latex math formulas defining the formula that is being minimized, and the matrix calculation for finding the weights.  Define in code cells the following functions as discussed in class.  Your functions' arguments and return types must be as shown here.\n",
    "\n",
    "  * ```model = train(X,T)```\n",
    "  * ```predict = use(model,X)```\n",
    "  * ```error = rmse(predict,T)```\n",
    "  \n",
    "Let ```X``` be a two-dimensional matrix (```np.array```) with each row containing one data sample, and ```T``` be a two-dimensional matrix of one column containing the target values for each sample in ```X```.  So, ```X.shape[0]``` is equal to ```T.shape[0]```.  Function call ```train(X,T)``` must return a dictionary with the keys ```means```, ```stds```, and ```w```."
   ]
  },
  {
   "cell_type": "markdown",
   "metadata": {},
   "source": [
    "## Functions"
   ]
  },
  {
   "cell_type": "code",
   "execution_count": 8,
   "metadata": {
    "collapsed": false
   },
   "outputs": [],
   "source": [
    "import numpy as np\n",
    "import matplotlib.pyplot as plt\n",
    "#magic command to display figures in notebook\n",
    "%matplotlib inline "
   ]
  },
  {
   "cell_type": "code",
   "execution_count": 6,
   "metadata": {
    "collapsed": false
   },
   "outputs": [],
   "source": [
    "def train(X, T):\n",
    "    x_mean = np.mean(X, axis=0)\n",
    "    x_std = np.std(X,axis=0)\n",
    "    x_stand = (X - x_mean)/x_std\n",
    "    #linear regression\n",
    "    x_train = np.hstack((np.ones((X.shape[0],1)),x_stand))\n",
    "    w = np.linalg.lstsq(x_train, T)[0]\n",
    "    return {'means': x_mean, 'stds': x_std, 'w': w}"
   ]
  },
  {
   "cell_type": "code",
   "execution_count": 13,
   "metadata": {
    "collapsed": true
   },
   "outputs": [],
   "source": [
    "def use(model, X):\n",
    "    x_stand = (X - model['means'])/model['stds']\n",
    "    x_test = np.hstack((np.ones((X.shape[0],1)),x_stand))\n",
    "    return np.dot(x_test, model['w'])"
   ]
  },
  {
   "cell_type": "code",
   "execution_count": 14,
   "metadata": {
    "collapsed": false,
    "scrolled": true
   },
   "outputs": [],
   "source": [
    "def rmse(predict, T):\n",
    "    return np.sqrt(np.mean((predict-T)**2, axis=0))"
   ]
  },
  {
   "cell_type": "markdown",
   "metadata": {},
   "source": [
    "## Data"
   ]
  },
  {
   "cell_type": "markdown",
   "metadata": {},
   "source": [
    "**Source:**  http://archive.ics.uci.edu/ml/machine-learning-databases/housing/\n",
    "\n",
    "**Description:** This dataset contains 506 instances and 14 attributes. The first 13 attributes were used as sample features $X$, and the last one (*MEDV* : Median value of owner-occupied homes in \\$1000's) was used as target $T$. The names and meanings of the 13 features are:\n",
    "1. *CRIM *:      per capita crime rate by town\n",
    "2. *ZN* :        proportion of residential land zoned for lots over 25,000 sq.ft.\n",
    "3. *INDUS* :     proportion of non-retail business acres per town\n",
    "4. *CHAS* :      Charles River dummy variable ( 1 if tract bounds river; 0 otherwise)\n",
    "5. *NOX* :       nitric oxides concentration (parts per 10 million)\n",
    "6. *RM* :        average number of rooms per dwelling\n",
    "7. *AGE* :       proportion of owner-occupied units built prior to 1940\n",
    "8. *DIS* :      weighted distances to five Boston employment centres\n",
    "9. *RAD* :      index of accessibility to radial highways\n",
    "10. *TAX* :     full-value property-tax rate per \\$10,000\n",
    "11. *PTRATIO* :  pupil-teacher ratio by town\n",
    "12. *B* :        $1000(B_k - 0.63)^2$ where $B_k$ is the proportion of blacks by town\n",
    "13. *LSTAT* :    % lower status of the population\n",
    "\n",
    "\n",
    "Include some plots of the data. Describe some observations you make about the plots."
   ]
  },
  {
   "cell_type": "markdown",
   "metadata": {},
   "source": [
    "## Results"
   ]
  },
  {
   "cell_type": "markdown",
   "metadata": {},
   "source": [
    "Apply your functions to the data and plot the results.  "
   ]
  },
  {
   "cell_type": "markdown",
   "metadata": {},
   "source": [
    "Show the values of the resulting weights and discuss which ones might be least relevant for fitting your linear model.  Remove them, fit the linear model again, plot the results, and discuss what you see."
   ]
  },
  {
   "cell_type": "code",
   "execution_count": null,
   "metadata": {
    "collapsed": true
   },
   "outputs": [],
   "source": [
    "!wget -P ./data/ http://archive.ics.uci.edu/ml/machine-learning-databases/housing/housing.data\n",
    "!wget -P ./data/ http://archive.ics.uci.edu/ml/machine-learning-databases/housing/housing.names"
   ]
  },
  {
   "cell_type": "code",
   "execution_count": null,
   "metadata": {
    "collapsed": true
   },
   "outputs": [],
   "source": [
    "!head -40 ./data/housing.data"
   ]
  },
  {
   "cell_type": "code",
   "execution_count": 9,
   "metadata": {
    "collapsed": false,
    "scrolled": true
   },
   "outputs": [
    {
     "name": "stdout",
     "output_type": "stream",
     "text": [
      "(506, 14)\n"
     ]
    }
   ],
   "source": [
    "# No missing data, so read the data directly\n",
    "data = np.loadtxt('./data/housing.data')\n",
    "print data.shape\n",
    "\n",
    "names = ['CRIM','ZN','INDUS','CHAS','NOX','RM', 'AGE','DIS', \\\n",
    "        'RAD','TAX','PTRATIO','B','LSTAT','MEDV']\n",
    "\n",
    "%precision 4\n",
    "data[:10,:];"
   ]
  },
  {
   "cell_type": "code",
   "execution_count": 10,
   "metadata": {
    "collapsed": false
   },
   "outputs": [
    {
     "name": "stdout",
     "output_type": "stream",
     "text": [
      "(506, 13)\n",
      "(506, 1)\n"
     ]
    }
   ],
   "source": [
    "# Seperate data into sample and target\n",
    "# X as sample (first 13 columns), T as target\n",
    "X = data[:, :13]\n",
    "T = data[:, -1:]\n",
    "print X.shape\n",
    "print T.shape\n",
    "\n",
    "xnames = names[:-1]\n",
    "tname = names[-1]\n",
    "\n",
    "####test below########"
   ]
  },
  {
   "cell_type": "code",
   "execution_count": null,
   "metadata": {
    "collapsed": true
   },
   "outputs": [],
   "source": [
    "#plot diagrams describing the relationship between each feature and the target\n",
    "#result plots are included in the section called Data\n",
    "plt.figure(figsize = (12,12))\n",
    "for i in range(X.shape[1]):\n",
    "    plt.subplot(4, 4, i+1)\n",
    "    plt.plot(X[:,i], T[:,0],'.')\n",
    "    plt.ylabel('' if i%4 else tname)\n",
    "    plt.xlabel(xnames[i])\n",
    "plt.savefig('./data/relations.png')"
   ]
  },
  {
   "cell_type": "code",
   "execution_count": 11,
   "metadata": {
    "collapsed": false
   },
   "outputs": [],
   "source": [
    "model = train(X,T)\n",
    "#print model['w']\n",
    "predict = use(model, X)\n",
    "error = rmse(predict, T)"
   ]
  },
  {
   "cell_type": "markdown",
   "metadata": {},
   "source": [
    "## Grading\n",
    "\n"
   ]
  },
  {
   "cell_type": "code",
   "execution_count": 12,
   "metadata": {
    "collapsed": false,
    "scrolled": true
   },
   "outputs": [
    {
     "name": "stdout",
     "output_type": "stream",
     "text": [
      "20/20 points. 'means' values are correct.\n",
      "20/20 points. 'stds' values are correct.\n",
      "20/20 points. 'w' values are correct.\n",
      "20/20 points. Values returned by 'use' are correct.\n",
      "20/20 points. rmse() is correct.\n",
      "A1 Grade is 100/100\n"
     ]
    }
   ],
   "source": [
    "%run -i \"A1grader.py\""
   ]
  },
  {
   "cell_type": "markdown",
   "metadata": {},
   "source": [
    "## Check-in"
   ]
  },
  {
   "cell_type": "markdown",
   "metadata": {},
   "source": [
    "Do not include this section in your notebook.\n",
    "\n",
    "Name your notebook ```Lastname-A1.ipynb```.  So, for me it would be ```Anderson-A1.ipynb```.  Submit the file using the ```Assignment 1``` link on [Canvas](https://colostate.instructure.com/courses/28803).\n",
    "\n",
    "Grading will be based on \n",
    "\n",
    "  * correct behavior of the three functions listed above,\n",
    "  * easy to understand plots in your notebook\n",
    "  * readability of the notebook,\n",
    "  * effort in making interesting observations, and in formatting your notebook."
   ]
  },
  {
   "cell_type": "code",
   "execution_count": null,
   "metadata": {
    "collapsed": true
   },
   "outputs": [],
   "source": []
  }
 ],
 "metadata": {
  "anaconda-cloud": {},
  "kernelspec": {
   "display_name": "Python [conda root]",
   "language": "python",
   "name": "conda-root-py"
  },
  "language_info": {
   "codemirror_mode": {
    "name": "ipython",
    "version": 2
   },
   "file_extension": ".py",
   "mimetype": "text/x-python",
   "name": "python",
   "nbconvert_exporter": "python",
   "pygments_lexer": "ipython2",
   "version": "2.7.12"
  }
 },
 "nbformat": 4,
 "nbformat_minor": 0
}

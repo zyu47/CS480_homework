{
 "cells": [
  {
   "cell_type": "markdown",
   "metadata": {},
   "source": [
    "$$\\newcommand{\\xv}{\\mathbf{x}}\n",
    "\\newcommand{\\Xv}{\\mathbf{X}}\n",
    "\\newcommand{\\yv}{\\mathbf{y}}\n",
    "\\newcommand{\\Yv}{\\mathbf{Y}}\n",
    "\\newcommand{\\zv}{\\mathbf{z}}\n",
    "\\newcommand{\\av}{\\mathbf{a}}\n",
    "\\newcommand{\\Wv}{\\mathbf{W}}\n",
    "\\newcommand{\\wv}{\\mathbf{w}}\n",
    "\\newcommand{\\betav}{\\mathbf{\\beta}}\n",
    "\\newcommand{\\gv}{\\mathbf{g}}\n",
    "\\newcommand{\\Hv}{\\mathbf{H}}\n",
    "\\newcommand{\\dv}{\\mathbf{d}}\n",
    "\\newcommand{\\Vv}{\\mathbf{V}}\n",
    "\\newcommand{\\vv}{\\mathbf{v}}\n",
    "\\newcommand{\\tv}{\\mathbf{t}}\n",
    "\\newcommand{\\Tv}{\\mathbf{T}}\n",
    "\\newcommand{\\Sv}{\\mathbf{S}}\n",
    "\\newcommand{\\Gv}{\\mathbf{G}}\n",
    "\\newcommand{\\zv}{\\mathbf{z}}\n",
    "\\newcommand{\\Zv}{\\mathbf{Z}}\n",
    "\\newcommand{\\Norm}{\\mathcal{N}}\n",
    "\\newcommand{\\muv}{\\boldsymbol{\\mu}}\n",
    "\\newcommand{\\sigmav}{\\boldsymbol{\\sigma}}\n",
    "\\newcommand{\\phiv}{\\boldsymbol{\\phi}}\n",
    "\\newcommand{\\Phiv}{\\boldsymbol{\\Phi}}\n",
    "\\newcommand{\\Sigmav}{\\boldsymbol{\\Sigma}}\n",
    "\\newcommand{\\Lambdav}{\\boldsymbol{\\Lambda}}\n",
    "\\newcommand{\\half}{\\frac{1}{2}}\n",
    "\\newcommand{\\argmax}[1]{\\underset{#1}{\\operatorname{argmax}}}\n",
    "\\newcommand{\\argmin}[1]{\\underset{#1}{\\operatorname{argmin}}}\n",
    "\\newcommand{\\dimensionbar}[1]{\\underset{#1}{\\operatorname{|}}}\n",
    "\\newcommand{\\dimensionbar}[1]{\\underset{#1}{\\operatorname{|}}}\n",
    "\\newcommand{\\grad}{\\mathbf{\\nabla}}\n",
    "\\newcommand{\\ebx}[1]{e^{\\betav_{#1}^T \\xv_n}}\n",
    "\\newcommand{\\eby}[1]{e^{y_{n,#1}}}\n",
    "\\newcommand{\\Tiv}{\\mathbf{Ti}}\n",
    "\\newcommand{\\Fv}{\\mathbf{F}}\n",
    "\\newcommand{\\ones}[1]{\\mathbf{1}_{#1}}\n",
    "$$"
   ]
  },
  {
   "cell_type": "markdown",
   "metadata": {},
   "source": [
    "# Assignment 4: Classification with LDA and Logistic Regression"
   ]
  },
  {
   "cell_type": "markdown",
   "metadata": {},
   "source": [
    "*Zhixian (Jason) Yu*"
   ]
  },
  {
   "cell_type": "markdown",
   "metadata": {},
   "source": [
    "## Overview"
   ]
  },
  {
   "cell_type": "markdown",
   "metadata": {},
   "source": [
    "**Objective:**  To compare LDA and linear and nonlinear logistic regression applied to two classification problems.\n",
    "\n",
    "**Data source:** <br />\n",
    "1.Abalone Dataset: http://archive.ics.uci.edu/ml/datasets/Abalone<br />\n",
    "2.Cardiocotograms Dataset: http://archive.ics.uci.edu/ml/machine-learning-databases/00193/CTG.xls "
   ]
  },
  {
   "cell_type": "markdown",
   "metadata": {},
   "source": [
    "## Methods\n",
    "### Linear Discriminant Analysis:\n",
    "In LDA, we assume the same covariance matrix, $\\Sigmav$, for each class, where \n",
    "$$\n",
    "\\begin{align*}\n",
    "\\Sigmav = \\sum_{k=1}^K \\frac{N_k}{N} \\Sigmav_k,\n",
    "\\end{align*}\n",
    "$$\n",
    "Therefore the discriminant function becomes\n",
    "$$\n",
    "      \\begin{align*}\n",
    "        \\delta_k(\\xv) = \\xv^T \\Sigmav^{-1} \\muv_k - \\frac{1}{2}\\muv_k^T \\Sigmav^{-1} \\muv_k + \\log\n",
    "        P(C=k)\n",
    "      \\end{align*}\n",
    "$$\n",
    "### Linear Logistic Regression:\n",
    "In LLR, we want to find $\\wv$ that maximizes the data likelihood, given the likelihood:\n",
    "\n",
    "$$\n",
    "    \\begin{align*}\n",
    "      L(\\wv) & = \\prod_{n=1}^N \\prod_{k=1}^K p(C=k\\,|\\, \\xv_n) ^ {t_{n,k}}\n",
    "    \\end{align*}\n",
    "$$\n",
    "\n",
    "For derivation simplicity, we work with the natural logarithm  $\\log L(\\wv)$ which we will call $LL(\\wv)$.\n",
    "\n",
    "$$\n",
    "    \\begin{align*}\n",
    "      LL(\\wv) = \\log L(\\wv) = \\sum_{n=1}^N \\sum_{k=1}^K t_{n,k}  \\log p(C=k\\,|\\,\\xv_n)\n",
    "    \\end{align*}\n",
    "$$\n",
    "\n",
    "And we use gradient ascent to update and find optimal $\\wv$ to maximize the likelihood:\n",
    "\n",
    "$$\n",
    "    \\begin{align*}\n",
    "        \\wv_j  \\leftarrow \\wv_j + \\alpha \\sum_{n=1}^N\n",
    "        (t_{n,j} - g_j(\\xv_n)) \\xv_n\n",
    "        \\end{align*}\n",
    "$$\n",
    "### Non-linear logistic regresion:\n",
    "Here are the expressions\n",
    "we used for minimizing mean squared error:\n",
    "\n",
    "$$\n",
    "      \\begin{align*}\n",
    "        \\Zv &= h(\\tilde{\\Xv} \\Vv)\\\\\n",
    "        \\Yv &= \\tilde{\\Zv} \\Wv\\\\\n",
    "        E &= \\frac{1}{NK} \\frac{1}{2} \\sum (\\Tv - \\Yv)^2\\\\\n",
    "        \\grad_\\Vv E &=  - \\frac{1}{NK}  \\tilde{\\Xv}^T \\left ( (\\Tv - \\Yv) \\hat{\\Wv}^T \\cdot  (1-\\Zv^2) \\right )\\\\\n",
    "        \\grad_\\Wv E &=  - \\frac{1}{NK} \\tilde{\\Zv}^T (\\Tv - \\Yv)\n",
    "      \\end{align*}\n",
    "$$\n",
    "\n",
    "\n",
    "Here are the changes needed for nonlinear logistic regression. $\\Tiv$\n",
    "is indicator variables for  $\\Tv$  \n",
    "\n",
    "$$\n",
    "      \\begin{align*}\n",
    "        \\Zv &= h(\\tilde{\\Xv} \\Vv)\\\\\n",
    "        \\Yv &= \\tilde{\\Zv} \\Wv\\\\\n",
    "        \\Fv &= e^{\\Yv}\\\\\n",
    "        \\Sv &= \\Fv \\ones{K}\\;\\;\\;\\;\\;\\;\\;\\;\\;\\;\\;\\;\\; \\text{ sum across columns}\\\\\n",
    "        \\Gv &= \\Fv / \\left [ \\Sv, \\Sv,\\ldots,\\Sv \\right ] \\;\\;\\; \\Sv \\text{ are column vectors }\\\\\n",
    "        LL &=  \\sum \\Tiv \\log \\Gv\\\\\n",
    "        \\grad_\\Vv LL &=    \\tilde{\\Xv}^T \\left ( (\\Tiv - \\Gv) \\hat{\\Wv}^T \\cdot  (1-\\Zv^2) \\right )\\\\\n",
    "        \\grad_\\Wv LL &=   \\tilde{\\Zv}^T (\\Tiv - \\Gv)\n",
    "      \\end{align*}\n",
    "$$"
   ]
  },
  {
   "cell_type": "markdown",
   "metadata": {},
   "source": [
    "## Classes and Functions"
   ]
  },
  {
   "cell_type": "code",
   "execution_count": 2,
   "metadata": {
    "collapsed": false
   },
   "outputs": [],
   "source": [
    "import numpy as np\n",
    "import mlutils as ml\n",
    "import neuralnetworks as nn\n",
    "import sys\n",
    "import matplotlib.pyplot as plt\n",
    "%matplotlib inline"
   ]
  },
  {
   "cell_type": "code",
   "execution_count": 3,
   "metadata": {
    "collapsed": false
   },
   "outputs": [],
   "source": [
    "### LDA class implementation from class\n",
    "import sys # for sys.float_info.epsilon\n",
    "\n",
    "######################################################################\n",
    "### class QDA\n",
    "######################################################################\n",
    "\n",
    "class QDA(object):\n",
    "    \n",
    "    def __init__(self):\n",
    "        # Define all instance variables here. Not necessary\n",
    "        self.means = None\n",
    "        self.stds = None\n",
    "        self.mu = None\n",
    "        self.sigma = None\n",
    "        self.sigmaInv = None\n",
    "        self.prior = None\n",
    "        self.determinant = None\n",
    "        self.discriminantConstant = None\n",
    "\n",
    "    def train(self, X, T):\n",
    "        self.classes = np.unique(T)\n",
    "        self.means, self.stds = np.mean(X,0), np.std(X,0)\n",
    "        Xs = (X - self.means) / self.stds\n",
    "        self.mu = []\n",
    "        self.sigma = []\n",
    "        self.sigmaInv = []\n",
    "        self.determinant = []\n",
    "        self.prior = []\n",
    "        nSamples = X.shape[0]\n",
    "        for k in self.classes:\n",
    "            rowsThisClass = (T == k).reshape((-1))\n",
    "            #if k== 2: print('---',sum(rowsThisClass),'---')\n",
    "            self.mu.append( np.mean(Xs[rowsThisClass, :], 0).reshape((-1,1)) )\n",
    "            self.sigma.append( np.cov(Xs[rowsThisClass, :], rowvar=0) )\n",
    "            if self.sigma[-1].size == 1:\n",
    "                self.sigma[-1] = self.sigma[-1].reshape((1,1))\n",
    "            det = np.linalg.det(self.sigma[-1])\n",
    "            if det == 0:\n",
    "                det = sys.float_info.epsilon\n",
    "            self.determinant.append( det )\n",
    "            self.sigmaInv.append( np.linalg.pinv(self.sigma[-1]) )    # pinv in case Sigma is singular\n",
    "            self.prior.append( np.sum(rowsThisClass) / float(nSamples) )\n",
    "        self._finishTrain()\n",
    "\n",
    "    def _finishTrain(self):\n",
    "        self.discriminantConstant = []\n",
    "        for ki in range(len(self.classes)):\n",
    "            self.discriminantConstant.append( np.log(self.prior[ki]) - 0.5*np.log(self.determinant[ki]) )\n",
    "\n",
    "    def use(self,X):\n",
    "        nSamples = X.shape[0]\n",
    "        Xs = (X - self.means) / self.stds\n",
    "        discriminants,probabilities = self._discriminantFunction(Xs)\n",
    "        predictedClass = self.classes[np.argmax( discriminants, axis=1 )]\n",
    "        predictedClass = predictedClass.reshape((-1, 1))\n",
    "        return predictedClass, probabilities, discriminants\n",
    "\n",
    "    def _discriminantFunction(self, Xs):\n",
    "        nSamples = Xs.shape[0]\n",
    "        discriminants = np.zeros((nSamples, len(self.classes)))\n",
    "        for ki in range(len(self.classes)):\n",
    "            Xc = Xs - self.mu[ki]\n",
    "            discriminants[:,ki:ki+1] = self.discriminantConstant[ki] - 0.5 * \\\n",
    "                                       np.sum(np.dot(Xc, self.sigmaInv[ki]) * Xc, axis=1).reshape((-1,1))\n",
    "        D = Xs.shape[1]\n",
    "        probabilities = np.exp( discriminants - 0.5*D*np.log(2*np.pi) )\n",
    "        return discriminants, probabilities\n",
    "        \n",
    "    def __repr__(self):\n",
    "        if self.mu is None:\n",
    "            return 'QDA not trained.'\n",
    "        else:\n",
    "            return 'QDA trained for classes {}'.format(self.classes)\n",
    "\n",
    "######################################################################\n",
    "### class LDA\n",
    "######################################################################\n",
    "\n",
    "class LDA(QDA):\n",
    "\n",
    "    def _finishTrain(self):\n",
    "        #print(self.classes)\n",
    "        #print(self.sigma[0].shape)\n",
    "        self.sigmaMean = np.sum(np.stack(self.sigma) * np.array(self.prior)[:,np.newaxis,np.newaxis], axis=0)\n",
    "        self.sigmaMeanInv = np.linalg.pinv(self.sigmaMean)\n",
    "        # print(self.sigma)\n",
    "        # print(self.sigmaMean)\n",
    "        self.discriminantConstant = []\n",
    "        self.discriminantCoefficient = []\n",
    "        for ki in range(len(self.classes)):\n",
    "            sigmaMu = np.dot(self.sigmaMeanInv, self.mu[ki])\n",
    "            self.discriminantConstant.append( -0.5 * np.dot(self.mu[ki].T, sigmaMu) )\n",
    "            self.discriminantCoefficient.append( sigmaMu )\n",
    "    \n",
    "    def _discriminantFunction(self,Xs):\n",
    "        nSamples = Xs.shape[0]\n",
    "        discriminants = np.zeros((nSamples, len(self.classes)))\n",
    "        for ki in range(len(self.classes)):\n",
    "            discriminants[:,ki:ki+1] = self.discriminantConstant[ki] + \\\n",
    "                                       np.dot(Xs, self.discriminantCoefficient[ki])\n",
    "        D = Xs.shape[1]\n",
    "        probabilities = np.exp( discriminants - 0.5*D*np.log(2*np.pi) - 0.5*np.log(self.determinant[ki]) \\\n",
    "                               - 0.5*np.sum(np.dot(Xs,self.sigmaMeanInv) * Xs, axis=1).reshape((-1,1)))\n",
    "        return discriminants, probabilities"
   ]
  },
  {
   "cell_type": "code",
   "execution_count": 4,
   "metadata": {
    "collapsed": true
   },
   "outputs": [],
   "source": [
    "def trainLDA(X, T, parameters = None):\n",
    "    '''\n",
    "    This function trains LDA with input data X and classifier T. \n",
    "    The member function train() calculates mean (mu) for each output class.\n",
    "    For LDA, the covariance (cov) for each output class is considered the same.\n",
    "    The final cov is calculated by weighting the cov of each class with its respective prior probability. \n",
    "    '''\n",
    "    lda = LDA()\n",
    "    lda.train(X, T)\n",
    "    return lda"
   ]
  },
  {
   "cell_type": "code",
   "execution_count": 5,
   "metadata": {
    "collapsed": true
   },
   "outputs": [],
   "source": [
    "def evaluateLDA(model, X, T):\n",
    "    '''\n",
    "    This function uses trained LDA to determine the percentage of correct classfication.\n",
    "    '''\n",
    "    c, _ , _ = model.use(X)\n",
    "    return (float(np.sum(T == c)) / len(c))*100"
   ]
  },
  {
   "cell_type": "code",
   "execution_count": 6,
   "metadata": {
    "collapsed": true
   },
   "outputs": [],
   "source": [
    "def trainNN(X, T, parameters):\n",
    "    '''\n",
    "    This function trains a logistic regression model for classification with input data X and classifier T. \n",
    "    Parameters specify whether it is a linear model or non-linear (neural network).\n",
    "    If 0 hidden layers are specified, it is a linear logistic regression model; otherwise it uses neural network to train a non-linear model.\n",
    "    '''\n",
    "    n_class = len(np.unique(T))\n",
    "    nnet = nn.NeuralNetworkClassifier(X.shape[1],parameters[0],n_class)\n",
    "    nnet.train(X, T, nIterations = parameters[1])\n",
    "    return nnet"
   ]
  },
  {
   "cell_type": "code",
   "execution_count": 7,
   "metadata": {
    "collapsed": false
   },
   "outputs": [],
   "source": [
    "def evaluateNN(model, X, T):\n",
    "    '''\n",
    "    This function uses trained non-linear logistic regression to determine the percentage of correct classfication.\n",
    "    '''\n",
    "    c, _ , _ = model.use(X, True)\n",
    "    return (float(np.sum(T == c)) / len(c))*100"
   ]
  },
  {
   "cell_type": "markdown",
   "metadata": {},
   "source": [
    "## Data #1: Abalone dataset\n",
    "### Description\n",
    "\n",
    "Data is acquired from UCI: http://archive.ics.uci.edu/ml/datasets/Abalone \n",
    "\n",
    "The goal is to predict the age of abalone from physical measurements. The age of abalone is determined by cutting the shell through the cone, staining it, and counting the number of rings through a microscope -- a boring and time-consuming task. Other measurements, which are easier to obtain, are used to predict the age. Further information, such as weather patterns and location (hence food availability) may be required to solve the problem. There are 4177 instances and 8 attributes.\n",
    "\n",
    "\n",
    "### Attribute Information:\n",
    "The attribute name, attribute type, the measurement unit and a brief description are given. The number of rings is the value to predict. <br />\n",
    "\n",
    "**Name / Data Type / Measurement Unit / Description** <br />\n",
    "Sex / nominal / -- / M, F, and I (infant)  <br />\n",
    "Length / continuous / mm / Longest shell measurement  <br />\n",
    "Diameter\t/ continuous / mm / perpendicular to length  <br />\n",
    "Height / continuous / mm / with meat in shell  <br />\n",
    "Whole weight / continuous / grams / whole abalone  <br />\n",
    "Shucked weight / continuous\t/ grams / weight of meat  <br />\n",
    "Viscera weight / continuous / grams / gut weight (after bleeding)  <br />\n",
    "Shell weight / continuous / grams / after being dried  <br />\n",
    "Rings / integer / -- / +1.5 gives the age in years "
   ]
  },
  {
   "cell_type": "code",
   "execution_count": 7,
   "metadata": {
    "collapsed": false,
    "scrolled": false
   },
   "outputs": [
    {
     "name": "stdout",
     "output_type": "stream",
     "text": [
      "--2017-04-03 10:50:00--  http://archive.ics.uci.edu/ml/machine-learning-databases/abalone/abalone.data\n",
      "Resolving archive.ics.uci.edu (archive.ics.uci.edu)... 128.195.10.249\n",
      "Connecting to archive.ics.uci.edu (archive.ics.uci.edu)|128.195.10.249|:80... connected.\n",
      "HTTP request sent, awaiting response... 200 OK\n",
      "Length: 191873 (187K) [text/plain]\n",
      "Saving to: ‘abalone.data.1’\n",
      "\n",
      "100%[======================================>] 191,873      635KB/s   in 0.3s   \n",
      "\n",
      "2017-04-03 10:50:00 (635 KB/s) - ‘abalone.data.1’ saved [191873/191873]\n",
      "\n"
     ]
    }
   ],
   "source": [
    "!wget http://archive.ics.uci.edu/ml/machine-learning-databases/abalone/abalone.data"
   ]
  },
  {
   "cell_type": "code",
   "execution_count": 8,
   "metadata": {
    "collapsed": false,
    "scrolled": false
   },
   "outputs": [
    {
     "name": "stdout",
     "output_type": "stream",
     "text": [
      "M,0.455,0.365,0.095,0.514,0.2245,0.101,0.15,15\r\n",
      "M,0.35,0.265,0.09,0.2255,0.0995,0.0485,0.07,7\r\n",
      "F,0.53,0.42,0.135,0.677,0.2565,0.1415,0.21,9\r\n",
      "M,0.44,0.365,0.125,0.516,0.2155,0.114,0.155,10\r\n",
      "I,0.33,0.255,0.08,0.205,0.0895,0.0395,0.055,7\r\n"
     ]
    }
   ],
   "source": [
    "# There is something wrong with the text coding of file, which needs to be converted to ASCII coding first\n",
    "!head -5 ./abalone.data"
   ]
  },
  {
   "cell_type": "code",
   "execution_count": 9,
   "metadata": {
    "collapsed": false,
    "scrolled": false
   },
   "outputs": [
    {
     "name": "stdout",
     "output_type": "stream",
     "text": [
      "(4177, 11)\n"
     ]
    },
    {
     "data": {
      "text/plain": [
       "'%.4f'"
      ]
     },
     "execution_count": 9,
     "metadata": {},
     "output_type": "execute_result"
    }
   ],
   "source": [
    "# No missing data, so read the data directly\n",
    "# Code sex as [male, female, infant]\n",
    "f = open('./abalone.data')\n",
    "data = []\n",
    "for line in f:\n",
    "    data.append([])\n",
    "    tmp = line.split(',')\n",
    "    for i in tmp:\n",
    "        if i == 'M':\n",
    "            data[-1].extend((1, 0, 0))\n",
    "            continue\n",
    "        if i == 'F':\n",
    "            data[-1].extend((0, 1, 0))\n",
    "            continue\n",
    "        if i == 'I':\n",
    "            data[-1].extend((0, 0, 1))\n",
    "        else:\n",
    "            data[-1].append(float(i))\n",
    "f.close()\n",
    "data = np.array(data)\n",
    "print(data.shape)\n",
    "#data = np.loadtxt('./abalone.data', delimiter=',')\n",
    "names = ['male','female','infant','length','diameter',\n",
    "         'height','whole_weight', 'shucked_weight',\n",
    "         'viscera_weight', 'shell_weight','rings']\n",
    "\n",
    "%precision 4\n",
    "#print(data[:10,:]);"
   ]
  },
  {
   "cell_type": "code",
   "execution_count": 10,
   "metadata": {
    "collapsed": false
   },
   "outputs": [],
   "source": [
    "# Seperating input and output\n",
    "X1 = data[:, :-1]\n",
    "T1 = data[:, -1:]\n",
    "xnames_1 = names[:-1]\n",
    "tname_1 = ['rings']\n",
    "#print(tname)"
   ]
  },
  {
   "cell_type": "markdown",
   "metadata": {},
   "source": [
    "Fist we plot the data to observe some potential relationship. "
   ]
  },
  {
   "cell_type": "code",
   "execution_count": 45,
   "metadata": {
    "collapsed": false,
    "scrolled": true
   },
   "outputs": [
    {
     "data": {
      "image/png": "[encoded data removed]",
      "text/plain": [
       "<matplotlib.figure.Figure at 0x7f48d44c9c18>"
      ]
     },
     "metadata": {},
     "output_type": "display_data"
    }
   ],
   "source": [
    "#plot diagrams describing the relationship between each feature and the output\n",
    "plt.figure(figsize = (12,14))\n",
    "for i in range(X1.shape[1]):\n",
    "    plt.subplot(4, 4, i+1)\n",
    "    plt.plot(X1[:,i], T1[:,0],'.')\n",
    "    plt.ylabel('' if i%4 else tname_1[0])\n",
    "    plt.xlabel(xnames_1[i])"
   ]
  },
  {
   "cell_type": "markdown",
   "metadata": {},
   "source": [
    "**Analysis:<br />**\n",
    "As is shown from the graph, we can get several lines of information.\n",
    "1. Not surprisingly, the number of rings in infants are lower than those in adults.\n",
    "2. Almost every parameter has a relatively positive correlation with the number of rings.\n",
    "3. The relationship between height and ring number is obscure, therefore it is probably difficult to predict ring number/age with height."
   ]
  },
  {
   "cell_type": "markdown",
   "metadata": {},
   "source": [
    "Before classification, we need to divide the data into training and validation parts. A function is defined to implement this partition. "
   ]
  },
  {
   "cell_type": "code",
   "execution_count": 11,
   "metadata": {
    "collapsed": true
   },
   "outputs": [],
   "source": [
    "def part_zy(X, T, nFolds = 5, shuffle = True):\n",
    "    '''\n",
    "    This function seperates the data into training and validation data. Default is 5-fold with shuffling.\n",
    "    '''\n",
    "     # Randomly arrange row indices\n",
    "    rowIndices = np.arange(X.shape[0])\n",
    "    if shuffle:\n",
    "        np.random.shuffle(rowIndices)\n",
    "    # Calculate number of samples in each of the nFolds folds\n",
    "    nSamples = X.shape[0]\n",
    "    nEach = int(nSamples / nFolds)\n",
    "    if nEach == 0:\n",
    "        raise ValueError(\"partitionKFolds: Number of samples in each fold is 0.\")\n",
    "    # Calculate the starting and stopping row index for each fold.\n",
    "    # Store in startsStops as list of (start,stop) pairs\n",
    "    starts = np.arange(0,nEach*nFolds,nEach)\n",
    "    stops = starts + nEach\n",
    "    stops[-1] = nSamples\n",
    "    startsStops = list(zip(starts,stops))\n",
    "    for valfold in range(nFolds):\n",
    "        trainfold = np.setdiff1d(range(nFolds), [valfold])\n",
    "        train_row = []\n",
    "        for tf in trainfold:\n",
    "            a, b = startsStops[tf]\n",
    "            train_row += rowIndices[a:b].tolist()\n",
    "        X_train = X[train_row, :]\n",
    "        T_train = T[train_row, :]\n",
    "\n",
    "        a, b = startsStops[valfold]\n",
    "        val_row = rowIndices[a:b].tolist()\n",
    "        X_val = X[val_row, :]\n",
    "        T_val = T[val_row, :]\n",
    "        \n",
    "        yield (X_train, T_train, X_val, T_val)"
   ]
  },
  {
   "cell_type": "markdown",
   "metadata": {},
   "source": [
    "### Classify abalone ring number/age"
   ]
  },
  {
   "cell_type": "markdown",
   "metadata": {},
   "source": [
    "First thing is to find out how many classes there are in the output. "
   ]
  },
  {
   "cell_type": "code",
   "execution_count": 12,
   "metadata": {
    "collapsed": false,
    "scrolled": false
   },
   "outputs": [
    {
     "name": "stdout",
     "output_type": "stream",
     "text": [
      "[  1.   2.   3.   4.   5.   6.   7.   8.   9.  10.  11.  12.  13.  14.  15.\n",
      "  16.  17.  18.  19.  20.  21.  22.  23.  24.  25.  26.  27.  29.]\n"
     ]
    }
   ],
   "source": [
    "classes1 = np.unique(T1)\n",
    "print(classes1)"
   ]
  },
  {
   "cell_type": "markdown",
   "metadata": {},
   "source": [
    "There are 29 classes in the output. Next step is to find out how many samples exist for each class."
   ]
  },
  {
   "cell_type": "code",
   "execution_count": 13,
   "metadata": {
    "collapsed": false,
    "scrolled": true
   },
   "outputs": [
    {
     "name": "stdout",
     "output_type": "stream",
     "text": [
      "1.0 :  [1]\n",
      "2.0 :  [1]\n",
      "3.0 :  [15]\n",
      "4.0 :  [57]\n",
      "5.0 :  [115]\n",
      "6.0 :  [259]\n",
      "7.0 :  [391]\n",
      "8.0 :  [568]\n",
      "9.0 :  [689]\n",
      "10.0 :  [634]\n",
      "11.0 :  [487]\n",
      "12.0 :  [267]\n",
      "13.0 :  [203]\n",
      "14.0 :  [126]\n",
      "15.0 :  [103]\n",
      "16.0 :  [67]\n",
      "17.0 :  [58]\n",
      "18.0 :  [42]\n",
      "19.0 :  [32]\n",
      "20.0 :  [26]\n",
      "21.0 :  [14]\n",
      "22.0 :  [6]\n",
      "23.0 :  [9]\n",
      "24.0 :  [2]\n",
      "25.0 :  [1]\n",
      "26.0 :  [1]\n",
      "27.0 :  [2]\n",
      "29.0 :  [1]\n"
     ]
    }
   ],
   "source": [
    "for i in classes1:\n",
    "    print(i, \": \", sum(T1==i))"
   ]
  },
  {
   "cell_type": "markdown",
   "metadata": {},
   "source": [
    "Because some of classes, such as 1, 2, 25, 27 and 29, have very low number of instances, it will be difficult for training samples to get more than 1 sample for these classes. Therefore data is updated to group classes with low number of samples, introducing two new classes: <=3 (named as 3) and >=22 (named as 22)."
   ]
  },
  {
   "cell_type": "code",
   "execution_count": 14,
   "metadata": {
    "collapsed": false
   },
   "outputs": [
    {
     "name": "stdout",
     "output_type": "stream",
     "text": [
      "3:   [17]\n",
      "22:  [22]\n",
      "[  3.   4.   5.   6.   7.   8.   9.  10.  11.  12.  13.  14.  15.  16.  17.\n",
      "  18.  19.  20.  21.  22.]\n"
     ]
    }
   ],
   "source": [
    "T1[T1==1] = 3\n",
    "T1[T1==2] = 3\n",
    "for i in range(23,30):\n",
    "    T1[T1==i] = 22\n",
    "classes1 = classes1[2:22]\n",
    "print('3:  ', sum(T1 == 3))\n",
    "print('22: ',sum(T1 == 22))\n",
    "print(classes1)"
   ]
  },
  {
   "cell_type": "code",
   "execution_count": 49,
   "metadata": {
    "collapsed": false,
    "scrolled": false
   },
   "outputs": [
    {
     "name": "stderr",
     "output_type": "stream",
     "text": [
      "/home/jason/anaconda3/lib/python3.6/site-packages/ipykernel/__main__.py:101: RuntimeWarning: invalid value encountered in log\n"
     ]
    },
    {
     "name": "stdout",
     "output_type": "stream",
     "text": [
      "[24.67065868263473, 24.550898203592812, 20.0, 22.874251497005986, 22.102747909199522]\n",
      "[29.58083832335329, 26.22754491017964, 25.868263473053894, 26.82634730538922, 28.673835125448026]\n"
     ]
    }
   ],
   "source": [
    "# LDA and LLR\n",
    "perc_lda_1 = []\n",
    "perc_llr_1 = []\n",
    "for X_train, T_train, X_val, T_val in part_zy(X1, T1):\n",
    "    #Linear Discriminant Analysis\n",
    "    model_lda_1 = trainLDA(X_train, T_train)\n",
    "    perc_lda_1.append(evaluateLDA(model_lda_1, X_val, T_val))\n",
    "    #Linear Logistic Regression\n",
    "    model_llr_1 = trainNN(X_train, T_train, [[0],2000])\n",
    "    perc_llr_1.append(evaluateNN(model_llr_1, X_val, T_val))\n",
    "    \n",
    "print(perc_lda_1)\n",
    "print(perc_llr_1)"
   ]
  },
  {
   "cell_type": "markdown",
   "metadata": {},
   "source": [
    "Apparently the prediction is not very accurate with either method, although LLR is slightly better than LDA. We can examine the parameters to see how the data was modeled by LDA and LLR."
   ]
  },
  {
   "cell_type": "code",
   "execution_count": 79,
   "metadata": {
    "collapsed": false,
    "scrolled": true
   },
   "outputs": [
    {
     "name": "stdout",
     "output_type": "stream",
     "text": [
      "['male', 'female', 'infant', 'length', 'diameter', 'height', 'whole_weight', 'shucked_weight', 'viscera_weight', 'shell_weight']\n",
      "3.0 :\n",
      "[-0.589  -0.6776  1.2746 -3.0141 -2.9075 -2.452  -1.6464 -1.5816 -1.5979\n",
      " -1.6693]\n",
      "4.0 :\n",
      "[-0.5178 -0.6776  1.2016 -2.5413 -2.498  -2.0221 -1.5753 -1.5164 -1.5306\n",
      " -1.5996]\n",
      "5.0 :\n",
      "[-0.5432 -0.6066  1.1573 -1.992  -1.9963 -1.6611 -1.4417 -1.3636 -1.4015\n",
      " -1.4601]\n",
      "6.0 :\n",
      "[-0.5123 -0.5245  1.0443 -1.2922 -1.3066 -1.1338 -1.1384 -1.0686 -1.1179\n",
      " -1.1594]\n",
      "7.0 :\n",
      "[-0.3166 -0.4437  0.7638 -0.8402 -0.857  -0.7928 -0.8702 -0.7854 -0.8551\n",
      " -0.9103]\n",
      "8.0 :\n",
      "[-0.1432 -0.2204  0.365  -0.1983 -0.2224 -0.2358 -0.37   -0.2796 -0.3699\n",
      " -0.4186]\n",
      "9.0 :\n",
      "[ 0.0759  0.0729 -0.1499  0.2094  0.1911  0.0999  0.0694  0.1514  0.0815\n",
      "  0.0097]\n",
      "10.0 :\n",
      "[ 0.2287  0.1516 -0.3844  0.4187  0.4107  0.3318  0.3734  0.4021  0.3986\n",
      "  0.3163]\n",
      "11.0 :\n",
      "[ 0.1756  0.2148 -0.3927  0.6242  0.6273  0.5121  0.6323  0.6327  0.6434\n",
      "  0.5885]\n",
      "12.0 :\n",
      "[ 0.1572  0.4099 -0.567   0.5742  0.5923  0.5496  0.6065  0.5583  0.5913\n",
      "  0.6262]\n",
      "13.0 :\n",
      "[ 0.1826  0.2453 -0.43    0.4619  0.4911  0.4973  0.4872  0.3152  0.4965\n",
      "  0.5786]\n",
      "14.0 :\n",
      "[ 0.1585  0.3031 -0.4627  0.4334  0.4839  0.5709  0.476   0.2801  0.4596\n",
      "  0.5978]\n",
      "15.0 :\n",
      "[ 0.2926  0.194  -0.4919  0.4097  0.4749  0.4816  0.4024  0.1731  0.4157\n",
      "  0.5634]\n",
      "16.0 :\n",
      "[ 0.1323  0.3577 -0.4899  0.627   0.7056  0.8123  0.7413  0.3663  0.6422\n",
      "  1.1585]\n",
      "17.0 :\n",
      "[ 0.119   0.3094 -0.4284  0.6518  0.6967  0.8165  0.8324  0.4964  0.6494\n",
      "  1.147 ]\n",
      "18.0 :\n",
      "[ 0.1979  0.3665 -0.5658  0.564   0.6065  0.6962  0.703   0.367   0.5102\n",
      "  1.0156]\n",
      "19.0 :\n",
      "[ 0.0522  0.4819 -0.5309  0.6633  0.727   0.8008  0.8157  0.4889  0.7264\n",
      "  1.0053]\n",
      "20.0 :\n",
      "[ 0.1768  0.3991 -0.5765  0.5416  0.6187  0.752   0.6524  0.2839  0.4027\n",
      "  1.117 ]\n",
      "21.0 :\n",
      "[ 0.0085  0.497  -0.5011  0.6173  0.5712  0.5159  0.6834  0.2587  0.3864\n",
      "  1.3136]\n",
      "22.0 :\n",
      "[ 0.1768  0.5187 -0.6951  0.7416  0.7844  1.1353  0.9513  0.3082  0.5701\n",
      "  1.5081]\n"
     ]
    }
   ],
   "source": [
    "#Examining the mu in LDA model\n",
    "print(xnames_1)\n",
    "for i in range(len(model_lda_1.classes)):\n",
    "    print(model_lda_1.classes[i],':')\n",
    "    print(model_lda_1.mu[i].flatten())"
   ]
  },
  {
   "cell_type": "markdown",
   "metadata": {},
   "source": [
    "We can see the different mu values for each attribute and each class. Although the final result is not optimal, this model seems to be able to seperate the means of each class."
   ]
  },
  {
   "cell_type": "markdown",
   "metadata": {},
   "source": [
    "Next I try neural network with different parameters."
   ]
  },
  {
   "cell_type": "code",
   "execution_count": 52,
   "metadata": {
    "collapsed": false
   },
   "outputs": [
    {
     "name": "stdout",
     "output_type": "stream",
     "text": [
      "[25.62874251497006, 27.18562874251497, 26.706586826347305, 29.46107784431138, 23.894862604540023]\n"
     ]
    }
   ],
   "source": [
    "perc_nn_1_1 = []\n",
    "for X_train, T_train, X_val, T_val in part_zy(X1, T1):\n",
    "    #Neural network logistic regression\n",
    "    model_nn_1_1 = trainNN(X_train, T_train, [[10],1500])\n",
    "    perc_nn_1_1.append(evaluateNN(model_nn_1_1, X_val, T_val))\n",
    "\n",
    "print(perc_nn_1_1)"
   ]
  },
  {
   "cell_type": "markdown",
   "metadata": {},
   "source": [
    "A simple neural network with one single hidden layer of 10 units did not seem to greatly increase the predication correctness. Next I try different parameters with neural network to see if any will work better at classification."
   ]
  },
  {
   "cell_type": "code",
   "execution_count": 53,
   "metadata": {
    "collapsed": false,
    "scrolled": false
   },
   "outputs": [
    {
     "name": "stdout",
     "output_type": "stream",
     "text": [
      "[[27.904191616766465, 27.18562874251497, 25.389221556886227, 25.748502994011975, 24.492234169653525], [24.790419161676645, 26.586826347305387, 24.191616766467067, 26.586826347305387, 24.850657108721624]]\n"
     ]
    }
   ],
   "source": [
    "perc_nn_1_2 = [[],[]]\n",
    "model_nn_1_2 = [0,0]\n",
    "par_set = [[[10,10],1500], [[10, 10, 10],1500]]\n",
    "for X_train, T_train, X_val, T_val in part_zy(X1, T1):\n",
    "    #Neural network logistic regression\n",
    "    for i in range(len(par_set)):\n",
    "        model_nn_1_2[i] = trainNN(X_train, T_train, par_set[i])\n",
    "        perc_nn_1_2[i].append(evaluateNN(model_nn_1_2[i], X_val, T_val))\n",
    "\n",
    "print(perc_nn_1_2)"
   ]
  },
  {
   "cell_type": "markdown",
   "metadata": {},
   "source": [
    "Adding more hidden layers did not improve the prediction very much, but we can try increasing the number of iterations to see if we can achieve better results. I choose 1 hidden layer with 10 units as the model to prevent overfitting."
   ]
  },
  {
   "cell_type": "code",
   "execution_count": 15,
   "metadata": {
    "collapsed": false,
    "scrolled": true
   },
   "outputs": [
    {
     "name": "stdout",
     "output_type": "stream",
     "text": [
      "[28.982035928143713, 28.74251497005988, 29.58083832335329, 26.82634730538922, 23.536439665471924]\n"
     ]
    }
   ],
   "source": [
    "perc_nn_1_3 = []\n",
    "for X_train, T_train, X_val, T_val in part_zy(X1, T1):\n",
    "    #Neural network logistic regression\n",
    "    model_nn_1_3 = trainNN(X_train, T_train, [[10],3000])\n",
    "    perc_nn_1_3.append(evaluateNN(model_nn_1_3, X_val, T_val))\n",
    "\n",
    "print(perc_nn_1_3)"
   ]
  },
  {
   "cell_type": "markdown",
   "metadata": {},
   "source": [
    "Adding more iterations improved the accuracy. Next I analyze the neural network logistic regression (perc_nn_1_3) from several aspects, including looking at the likelihood with iterations, layer matrix and the confusion matrix."
   ]
  },
  {
   "cell_type": "code",
   "execution_count": 16,
   "metadata": {
    "collapsed": false,
    "scrolled": true
   },
   "outputs": [
    {
     "data": {
      "text/plain": [
       "[<matplotlib.lines.Line2D at 0x7fb4a9588e80>]"
      ]
     },
     "execution_count": 16,
     "metadata": {},
     "output_type": "execute_result"
    },
    {
     "data": {
      "image/png": "[encoded data removed]",
      "text/plain": [
       "<matplotlib.figure.Figure at 0x7fb4ab5cca58>"
      ]
     },
     "metadata": {},
     "output_type": "display_data"
    }
   ],
   "source": [
    "plt.plot(np.exp(-model_nn_1_3.getErrorTrace()))"
   ]
  },
  {
   "cell_type": "code",
   "execution_count": 17,
   "metadata": {
    "collapsed": false,
    "scrolled": true
   },
   "outputs": [
    {
     "name": "stdout",
     "output_type": "stream",
     "text": [
      "1.42799938194 0.000121014965254 260.145681582\n"
     ]
    },
    {
     "data": {
      "image/png": "[encoded data removed]",
      "text/plain": [
       "<matplotlib.figure.Figure at 0x7fb4a952e128>"
      ]
     },
     "metadata": {},
     "output_type": "display_data"
    }
   ],
   "source": [
    "plt.figure(figsize=(6,8))\n",
    "model_nn_1_3.draw(inputNames = xnames_1)"
   ]
  },
  {
   "cell_type": "markdown",
   "metadata": {},
   "source": [
    "Based on the graph, the hidden nodes are almost negatively related with class 3, 6, and 19, but positively associated with 17. "
   ]
  },
  {
   "cell_type": "code",
   "execution_count": 32,
   "metadata": {
    "collapsed": false,
    "scrolled": true
   },
   "outputs": [
    {
     "name": "stdout",
     "output_type": "stream",
     "text": [
      "       3    4    5    6    7    8    9   10   11   12   13   14   15   16   17   18   19   20   21   22\n",
      "    ------------------------------------------------------------------------------------------------------------------------\n",
      " 3 | 41.2 47.1 11.8  0    0    0    0    0    0    0    0    0    0    0    0    0    0    0    0    0     (17 / 17)\n",
      " 4 |  3.5 56.1 29.8  8.8  1.8  0    0    0    0    0    0    0    0    0    0    0    0    0    0    0     (57 / 57)\n",
      " 5 |  0   13.0 32.2 40.0 14.8  0    0    0    0    0    0    0    0    0    0    0    0    0    0    0     (115 / 115)\n",
      " 6 |  0    2.7  6.9 37.8 39.8  6.6  5.0  0.4  0.4  0    0.4  0    0    0    0    0    0    0    0    0     (259 / 259)\n",
      " 7 |  0    0    2.6 16.4 46.3 22.8  9.2  1.3  0.5  0.8  0.3  0    0    0    0    0    0    0    0    0     (391 / 391)\n",
      " 8 |  0    0.2  0.2  4.8 17.3 37.0 28.7  8.8  0.9  1.6  0.5  0    0.2  0    0    0    0    0    0    0     (568 / 568)\n",
      " 9 |  0    0    0.1  0.7  5.5 18.3 45.3 20.2  5.2  3.2  0.9  0.3  0.1  0.1  0    0    0    0    0    0     (689 / 689)\n",
      "10 |  0    0    0    0.3  3.5  9.3 35.5 32.5 10.6  2.7  3.6  0.5  0.3  0.5  0.6  0    0    0    0.2  0     (634 / 634)\n",
      "11 |  0    0    0    0.2  1.6  4.5 26.1 33.3 24.6  4.5  2.9  0.6  0.6  0.2  0.4  0    0    0    0.4  0     (487 / 487)\n",
      "12 |  0    0    0    0.4  1.9  5.2 21.0 27.7 23.2  7.5  6.4  1.1  1.1  0.7  1.5  0    0.4  0    1.1  0.7   (267 / 267)\n",
      "13 |  0    0    0    0.5  1.5  6.4  8.9 28.1 19.2  8.9 16.3  1.5  2.5  1.5  2.0  1.5  0    0    0.5  1.0   (203 / 203)\n",
      "14 |  0    0    0    0    0.8  4.0 15.9 19.0 19.0  9.5 16.7  3.2  4.8  0.8  2.4  0    0    0    0    4.0   (126 / 126)\n",
      "15 |  0    0    0    0    0    2.9 20.4 18.4  9.7  6.8 20.4  1.9  8.7  6.8  1.9  0    0    0    0    1.9   (103 / 103)\n",
      "16 |  0    0    0    0    0    1.5  4.5 10.4 13.4 14.9 22.4  3.0  6.0 16.4  1.5  0    0    0    4.5  1.5   (67 / 67)\n",
      "17 |  0    0    0    0    0    1.7  3.4 12.1 19.0 10.3 29.3  0    0    3.4 15.5  0    0    0    3.4  1.7   (58 / 58)\n",
      "18 |  0    0    0    0    0    0    9.5 16.7 14.3  7.1 28.6  2.4  7.1  7.1  4.8  0    0    0    2.4  0     (42 / 42)\n",
      "19 |  0    0    0    0    0    0    6.2  9.4 15.6 18.8 31.2  3.1  3.1  0    9.4  0    0    0    0    3.1   (32 / 32)\n",
      "20 |  0    0    0    0    0    0    0   15.4  7.7 11.5 34.6  0    0   15.4 11.5  0    0    0    3.8  0     (26 / 26)\n",
      "21 |  0    0    0    0    0    0    7.1  0    7.1 14.3 14.3  0    0    7.1  7.1  0    0    0   42.9  0     (14 / 14)\n",
      "22 |  0    0    0    0    0    0    0    4.5  0   13.6  9.1  0    4.5 13.6 18.2  4.5  0    0    9.1 22.7   (22 / 22)\n",
      "       3    4    5    6    7    8    9   10   11   12   13   14   15   16   17   18   19   20   21   22\n",
      "    ------------------------------------------------------------------------------------------------------------------------\n",
      " 3 | 41.2 47.1 11.8  0    0    0    0    0    0    0    0    0    0    0    0    0    0    0    0    0     (17 / 17)\n",
      " 4 |  3.5 56.1 29.8  8.8  1.8  0    0    0    0    0    0    0    0    0    0    0    0    0    0    0     (57 / 57)\n",
      " 5 |  0   13.0 32.2 40.0 14.8  0    0    0    0    0    0    0    0    0    0    0    0    0    0    0     (115 / 115)\n",
      " 6 |  0    2.7  6.9 37.8 39.8  6.6  5.0  0.4  0.4  0    0.4  0    0    0    0    0    0    0    0    0     (259 / 259)\n",
      " 7 |  0    0    2.6 16.4 46.3 22.8  9.2  1.3  0.5  0.8  0.3  0    0    0    0    0    0    0    0    0     (391 / 391)\n",
      " 8 |  0    0.2  0.2  4.8 17.3 37.0 28.7  8.8  0.9  1.6  0.5  0    0.2  0    0    0    0    0    0    0     (568 / 568)\n",
      " 9 |  0    0    0.1  0.7  5.5 18.3 45.3 20.2  5.2  3.2  0.9  0.3  0.1  0.1  0    0    0    0    0    0     (689 / 689)\n",
      "10 |  0    0    0    0.3  3.5  9.3 35.5 32.5 10.6  2.7  3.6  0.5  0.3  0.5  0.6  0    0    0    0.2  0     (634 / 634)\n",
      "11 |  0    0    0    0.2  1.6  4.5 26.1 33.3 24.6  4.5  2.9  0.6  0.6  0.2  0.4  0    0    0    0.4  0     (487 / 487)\n",
      "12 |  0    0    0    0.4  1.9  5.2 21.0 27.7 23.2  7.5  6.4  1.1  1.1  0.7  1.5  0    0.4  0    1.1  0.7   (267 / 267)\n",
      "13 |  0    0    0    0.5  1.5  6.4  8.9 28.1 19.2  8.9 16.3  1.5  2.5  1.5  2.0  1.5  0    0    0.5  1.0   (203 / 203)\n",
      "14 |  0    0    0    0    0.8  4.0 15.9 19.0 19.0  9.5 16.7  3.2  4.8  0.8  2.4  0    0    0    0    4.0   (126 / 126)\n",
      "15 |  0    0    0    0    0    2.9 20.4 18.4  9.7  6.8 20.4  1.9  8.7  6.8  1.9  0    0    0    0    1.9   (103 / 103)\n",
      "16 |  0    0    0    0    0    1.5  4.5 10.4 13.4 14.9 22.4  3.0  6.0 16.4  1.5  0    0    0    4.5  1.5   (67 / 67)\n",
      "17 |  0    0    0    0    0    1.7  3.4 12.1 19.0 10.3 29.3  0    0    3.4 15.5  0    0    0    3.4  1.7   (58 / 58)\n",
      "18 |  0    0    0    0    0    0    9.5 16.7 14.3  7.1 28.6  2.4  7.1  7.1  4.8  0    0    0    2.4  0     (42 / 42)\n",
      "19 |  0    0    0    0    0    0    6.2  9.4 15.6 18.8 31.2  3.1  3.1  0    9.4  0    0    0    0    3.1   (32 / 32)\n",
      "20 |  0    0    0    0    0    0    0   15.4  7.7 11.5 34.6  0    0   15.4 11.5  0    0    0    3.8  0     (26 / 26)\n",
      "21 |  0    0    0    0    0    0    7.1  0    7.1 14.3 14.3  0    0    7.1  7.1  0    0    0   42.9  0     (14 / 14)\n",
      "22 |  0    0    0    0    0    0    0    4.5  0   13.6  9.1  0    4.5 13.6 18.2  4.5  0    0    9.1 22.7   (22 / 22)\n"
     ]
    }
   ],
   "source": [
    "Ptest_1,Prtest_1,_= model_nn_1_3.use(X1,allOutputs=True)\n",
    "ml.printConfusionMatrix( ml.confusionMatrix(T1,Ptest_1,classes1), classes1)"
   ]
  },
  {
   "cell_type": "markdown",
   "metadata": {},
   "source": [
    "Based on the confusion matrix, this neural network is able to predict ring numbers when they are small. When the ring number is equal to or larger than 12, the predication capability decreases very rapidly. The problem of very low accuracy may be because two reasons. First, there are too many classes and it is difficult to find a linear or non-linear seperable model to predict the results. Second, some of classes, such as those larger than 16, have too few samples/instances. Therefore It can be difficult to make a precise prediction since the number of parameters in a neural network is much higher than the number of feature space. "
   ]
  },
  {
   "cell_type": "markdown",
   "metadata": {},
   "source": [
    "In summary, non-linear logistic regression (neural network with 1 hidden layer of 10 units) works best on this dataset, and LLR is a little worse than non-linear logistic regression. Both of them are better than LDA. This seems to be a difficult problem, and one may try to group some the classes together to achieve higher predicability. Another way is to increase the number of samples."
   ]
  },
  {
   "cell_type": "markdown",
   "metadata": {},
   "source": [
    "## Data #2: Cardiotocograms\n",
    "### Description\n",
    "\n",
    "Data is acquired from UCI:http://archive.ics.uci.edu/ml/machine-learning-databases/00193/CTG.xls \n",
    "\n",
    "2126 fetal cardiotocograms (CTGs) were automatically processed and the respective diagnostic features measured. The CTGs were also classified by three expert obstetricians and a consensus classification label assigned to each of them. Classification was both with respect to a morphologic pattern (A, B, C. ...) and to a fetal state (N, S, P). Therefore the dataset can be used either for 10-class or 3-class experiments. Here I tested 10-class classficiation with LDA, LLR, and non-linear logistic regression.\n",
    "\n",
    "### Attribute Information:\n",
    "There are 23 attributes, 2 are output and 21 are input features. Their names and meanings are the following:\n",
    "\n",
    "\n",
    "LB - FHR baseline (beats per minute)<br />\n",
    "AC - # of accelerations per second<br />\n",
    "FM - # of fetal movements per second<br />\n",
    "UC - # of uterine contractions per second<br />\n",
    "DL - # of light decelerations per second<br />\n",
    "DS - # of severe decelerations per second<br />\n",
    "DP - # of prolongued decelerations per second<br />\n",
    "ASTV - percentage of time with abnormal short term variability<br />\n",
    "MSTV - mean value of short term variability<br />\n",
    "ALTV - percentage of time with abnormal long term variability<br />\n",
    "MLTV - mean value of long term variability<br />\n",
    "Width - width of FHR histogram<br />\n",
    "Min - minimum of FHR histogram<br />\n",
    "Max - Maximum of FHR histogram<br />\n",
    "Nmax - # of histogram peaks<br />\n",
    "Nzeros - # of histogram zeros<br />\n",
    "Mode - histogram mode<br />\n",
    "Mean - histogram mean<br />\n",
    "Median - histogram median<br />\n",
    "Variance - histogram variance<br />\n",
    "Tendency - histogram tendency<br />\n",
    "CLASS - FHR pattern class code (1 to 10)<br />\n",
    "NSP - fetal state class code (N=normal; S=suspect; P=pathologic)<br />\n"
   ]
  },
  {
   "cell_type": "code",
   "execution_count": 1,
   "metadata": {
    "collapsed": false,
    "scrolled": true
   },
   "outputs": [
    {
     "name": "stdout",
     "output_type": "stream",
     "text": [
      "--2017-04-03 13:47:35--  http://archive.ics.uci.edu/ml/machine-learning-databases/00193/CTG.xls\n",
      "Resolving archive.ics.uci.edu (archive.ics.uci.edu)... 128.195.10.249\n",
      "Connecting to archive.ics.uci.edu (archive.ics.uci.edu)|128.195.10.249|:80... connected.\n",
      "HTTP request sent, awaiting response... 200 OK\n",
      "Length: 1743872 (1.7M) [application/vnd.ms-excel]\n",
      "Saving to: ‘CTG.xls’\n",
      "\n",
      "100%[======================================>] 1,743,872   1.15MB/s   in 1.4s   \n",
      "\n",
      "2017-04-03 13:47:37 (1.15 MB/s) - ‘CTG.xls’ saved [1743872/1743872]\n",
      "\n"
     ]
    }
   ],
   "source": [
    "!wget http://archive.ics.uci.edu/ml/machine-learning-databases/00193/CTG.xls"
   ]
  },
  {
   "cell_type": "markdown",
   "metadata": {},
   "source": [
    "This is an excel file with 3 sheets. The sheet named as \"Data\" contains all the data we need with some extra information. Here I use pandas to read the excel file. "
   ]
  },
  {
   "cell_type": "code",
   "execution_count": 18,
   "metadata": {
    "collapsed": true
   },
   "outputs": [],
   "source": [
    "import pandas as pd"
   ]
  },
  {
   "cell_type": "code",
   "execution_count": 19,
   "metadata": {
    "collapsed": false
   },
   "outputs": [],
   "source": [
    "raw_data = pd.read_excel('CTG.xls', sheetname = 'Data', skiprows = 1, parse_cols = 'K:AE,AR,AT')"
   ]
  },
  {
   "cell_type": "code",
   "execution_count": 20,
   "metadata": {
    "collapsed": false
   },
   "outputs": [
    {
     "name": "stdout",
     "output_type": "stream",
     "text": [
      "(2126, 23)\n"
     ]
    }
   ],
   "source": [
    "data = raw_data.as_matrix()[:-3,:]\n",
    "print(data.shape)\n",
    "names = ['LB','AC','FM','UC','DL','DS',\n",
    "         'DP','ASTV','MSTV','ALTV','MLTV',\n",
    "         'Width','Min','Max','Nmax','Nzeros',\n",
    "         'Mode','Mean','Median','Variance','Tendency',\n",
    "         'CLASS', 'NSP']"
   ]
  },
  {
   "cell_type": "code",
   "execution_count": 21,
   "metadata": {
    "collapsed": false
   },
   "outputs": [
    {
     "name": "stdout",
     "output_type": "stream",
     "text": [
      "(2126, 21)\n",
      "(2126, 1)\n"
     ]
    }
   ],
   "source": [
    "# Seperating input and output\n",
    "X2 = data[:, :-2]\n",
    "T2 = data[:, -2:-1]\n",
    "xnames_2 = names[:-2]\n",
    "tname_2 = ['CLASS']\n",
    "print(X2.shape)\n",
    "print(T2.shape)"
   ]
  },
  {
   "cell_type": "markdown",
   "metadata": {},
   "source": [
    "Fist we plot the data to observe some potential relationship. "
   ]
  },
  {
   "cell_type": "code",
   "execution_count": 67,
   "metadata": {
    "collapsed": false,
    "scrolled": true
   },
   "outputs": [
    {
     "data": {
      "image/png": "[encoded data removed]",
      "text/plain": [
       "<matplotlib.figure.Figure at 0x7f48d3947438>"
      ]
     },
     "metadata": {},
     "output_type": "display_data"
    }
   ],
   "source": [
    "#plot diagrams describing the relationship between each feature and the output\n",
    "plt.figure(figsize = (15,18))\n",
    "for i in range(X2.shape[1]):\n",
    "    plt.subplot(5, 5, i+1)\n",
    "    plt.plot(X2[:,i], T2[:,0],'.')\n",
    "    plt.ylabel('' if i%5 else tname_2[0])\n",
    "    plt.xlabel(xnames_2[i])"
   ]
  },
  {
   "cell_type": "markdown",
   "metadata": {},
   "source": [
    "**Analysis:<br />**\n",
    "Several attributes seem to have a correlation with the output classes. For exmaple, higher DP only appear in class 6-9, and lower histogram median is associated with class 8. Some of the features do not seem to be very important in terms of classificaiton such as Nzeros."
   ]
  },
  {
   "cell_type": "markdown",
   "metadata": {},
   "source": [
    "### Classify cardiotocograms data"
   ]
  },
  {
   "cell_type": "markdown",
   "metadata": {},
   "source": [
    "First thing is to find out how many classes there are in the output. "
   ]
  },
  {
   "cell_type": "code",
   "execution_count": 22,
   "metadata": {
    "collapsed": false,
    "scrolled": false
   },
   "outputs": [
    {
     "name": "stdout",
     "output_type": "stream",
     "text": [
      "[  1.   2.   3.   4.   5.   6.   7.   8.   9.  10.]\n"
     ]
    }
   ],
   "source": [
    "classes_2 = np.unique(T2)\n",
    "print(classes_2)"
   ]
  },
  {
   "cell_type": "markdown",
   "metadata": {},
   "source": [
    "As mentioned before, there are 10 classes in the output. Next step is to find out how many samples exist for each class."
   ]
  },
  {
   "cell_type": "code",
   "execution_count": 23,
   "metadata": {
    "collapsed": false,
    "scrolled": false
   },
   "outputs": [
    {
     "name": "stdout",
     "output_type": "stream",
     "text": [
      "1.0 :  [384]\n",
      "2.0 :  [579]\n",
      "3.0 :  [53]\n",
      "4.0 :  [81]\n",
      "5.0 :  [72]\n",
      "6.0 :  [332]\n",
      "7.0 :  [252]\n",
      "8.0 :  [107]\n",
      "9.0 :  [69]\n",
      "10.0 :  [197]\n"
     ]
    }
   ],
   "source": [
    "for i in classes_2:\n",
    "    print(i, \": \", sum(T2==i))"
   ]
  },
  {
   "cell_type": "code",
   "execution_count": 36,
   "metadata": {
    "collapsed": false,
    "scrolled": false
   },
   "outputs": [
    {
     "name": "stderr",
     "output_type": "stream",
     "text": [
      "/home/jason/anaconda3/lib/python3.6/site-packages/ipykernel/__main__.py:101: RuntimeWarning: invalid value encountered in log\n"
     ]
    },
    {
     "name": "stdout",
     "output_type": "stream",
     "text": [
      "[73.41176470588235, 67.29411764705883, 69.17647058823529, 67.76470588235294, 66.90140845070422]\n",
      "[80.47058823529412, 81.64705882352942, 80.47058823529412, 79.05882352941175, 83.09859154929578]\n"
     ]
    }
   ],
   "source": [
    "# LDA and LLR\n",
    "perc_lda_2 = []\n",
    "perc_llr_2 = []\n",
    "for X_train, T_train, X_val, T_val in part_zy(X2, T2):\n",
    "    #Linear Discriminant Analysis\n",
    "    model_lda_2 = trainLDA(X_train, T_train)\n",
    "    perc_lda_2.append(evaluateLDA(model_lda_2, X_val, T_val))\n",
    "    #Linear Logistic Regression\n",
    "    model_llr_2 = trainNN(X_train, T_train, [[0],2000])\n",
    "    perc_llr_2.append(evaluateNN(model_llr_2, X_val, T_val))\n",
    "    \n",
    "print(perc_lda_2)\n",
    "print(perc_llr_2)"
   ]
  },
  {
   "cell_type": "markdown",
   "metadata": {},
   "source": [
    "LLR is much better than LDA in terms of the prediction. We can examine the parameters to see how the data was modeled by LDA and LLR."
   ]
  },
  {
   "cell_type": "code",
   "execution_count": 80,
   "metadata": {
    "collapsed": false,
    "scrolled": true
   },
   "outputs": [
    {
     "name": "stdout",
     "output_type": "stream",
     "text": [
      "['LB', 'AC', 'FM', 'UC', 'DL', 'DS', 'DP', 'ASTV', 'MSTV', 'ALTV', 'MLTV', 'Width', 'Min', 'Max', 'Nmax', 'Nzeros', 'Mode', 'Mean', 'Median', 'Variance', 'Tendency']\n",
      "1.0 :\n",
      "[-0.0288 -0.6999 -0.1619 -0.0613 -0.5747 -0.059  -0.2665  0.132  -0.5296\n",
      "  0.2612  0.1951 -0.7699  0.5947 -0.6907 -0.6087 -0.228  -0.0469  0.0554\n",
      " -0.0453 -0.5787 -0.1183]\n",
      "2.0 :\n",
      "[-0.0912  0.825  -0.1182  0.0179 -0.5454 -0.059  -0.2665 -0.2317 -0.0881\n",
      " -0.4087  0.1676 -0.0662  0.1793  0.1511 -0.1155 -0.1769  0.1331  0.3198\n",
      "  0.2014 -0.3149 -0.1944]\n",
      "3.0 :\n",
      "[-0.312  -0.7309 -0.0743 -0.2656 -0.5605 -0.059  -0.2665 -0.876   0.1609\n",
      " -0.4547  1.66   -0.2045 -0.058  -0.5382 -0.0501  0.1313 -0.2517 -0.1646\n",
      " -0.2754 -0.4693  0.223 ]\n",
      "4.0 :\n",
      "[ 0.0254  2.1094  0.2873  0.1141 -0.558  -0.059  -0.2665 -0.5742  0.4763\n",
      " -0.5386 -0.5139  0.6297 -0.2213  1.0003  0.5101  0.0419  1.3039  1.2275\n",
      "  1.3199  0.5221  0.6159]\n",
      "5.0 :\n",
      "[ 0.8124 -0.6609 -0.1344 -0.2451 -0.5975 -0.059  -0.2665  0.3781 -0.6515\n",
      "  0.4211  0.2815 -0.417   0.7317  0.2986  0.0265 -0.0829  0.982   1.0637\n",
      "  1.0568 -0.4841  0.2273]\n",
      "6.0 :\n",
      "[-0.3213  0.508   0.2319  0.4373  0.8741 -0.0096 -0.0057 -0.4295  0.7007\n",
      " -0.4706 -0.1479  0.8348 -0.7441  0.5858  0.5803  0.2169 -0.0451 -0.2992\n",
      " -0.1347  0.6406  0.1196]\n",
      "7.0 :\n",
      "[ -8.7579e-02  -7.3616e-01  -1.9203e-04   3.9445e-01   1.4564e+00\n",
      "  -5.9034e-02   1.3839e-01  -3.9140e-01   6.8819e-01  -3.3040e-01\n",
      "  -5.6477e-02   6.5776e-01  -8.8445e-01  -2.8177e-02   5.8696e-01\n",
      "   6.6015e-01  -2.8517e-01  -6.4758e-01  -4.7590e-01   4.5955e-01\n",
      "   3.7162e-01]\n",
      "8.0 :\n",
      "[-0.508  -0.6394  0.4707  0.4986  1.3466  1.0146  3.2754  0.562   1.1181\n",
      " -0.5372 -1.0045  1.0927 -1.1364  0.5001  0.8102  0.3235 -2.3239 -2.4112\n",
      " -2.1448  2.3098 -1.0485]\n",
      "9.0 :\n",
      "[ 0.3902 -0.8196  0.1771 -1.238  -0.6381 -0.059  -0.0411  1.669  -1.1462\n",
      "  2.7554 -0.5874 -1.1736  0.9566 -0.9705 -0.9352 -0.4855 -0.0031  0.213\n",
      "  0.0609 -0.5331 -0.0357]\n",
      "10.0 :\n",
      "[ 0.8566 -0.7962 -0.1045 -0.9196 -0.587  -0.059  -0.2665  1.1523 -1.0222\n",
      "  1.4538 -0.1452 -0.8553  0.8688 -0.4253 -0.5942 -0.3197  0.4458  0.579\n",
      "  0.5081 -0.6119  0.2084]\n"
     ]
    }
   ],
   "source": [
    "#Examining the mu for each class in the LDA model\n",
    "print(xnames_2)\n",
    "for i in range(len(model_lda_2.classes)):\n",
    "    print(model_lda_2.classes[i],':')\n",
    "    print(model_lda_2.mu[i].flatten())"
   ]
  },
  {
   "cell_type": "markdown",
   "metadata": {},
   "source": [
    "Next I try neural network with different parameters."
   ]
  },
  {
   "cell_type": "code",
   "execution_count": 69,
   "metadata": {
    "collapsed": false
   },
   "outputs": [
    {
     "name": "stdout",
     "output_type": "stream",
     "text": [
      "[81.64705882352942, 79.29411764705883, 80.0, 75.29411764705883, 80.75117370892019]\n"
     ]
    }
   ],
   "source": [
    "perc_nn_2_1 = []\n",
    "for X_train, T_train, X_val, T_val in part_zy(X2, T2):\n",
    "    #Neural network logistic regression\n",
    "    model_nn_2_1 = trainNN(X_train, T_train, [[10],1500])\n",
    "    perc_nn_2_1.append(evaluateNN(model_nn_2_1, X_val, T_val))\n",
    "\n",
    "print(perc_nn_2_1)"
   ]
  },
  {
   "cell_type": "markdown",
   "metadata": {},
   "source": [
    "A simple neural network with one single hidden layer of 10 units did not seems to improve the predication compared with LLR. Next I try different parameters with neural network to see if any will work better at classification."
   ]
  },
  {
   "cell_type": "code",
   "execution_count": 66,
   "metadata": {
    "collapsed": false
   },
   "outputs": [
    {
     "name": "stdout",
     "output_type": "stream",
     "text": [
      "[[77.17647058823529, 82.11764705882352, 80.47058823529412, 75.52941176470588, 76.76056338028168], [75.76470588235294, 81.64705882352942, 80.94117647058823, 78.58823529411765, 78.40375586854461]]\n"
     ]
    }
   ],
   "source": [
    "perc_nn_2_2 = [[],[]]\n",
    "model_nn_2_2 = [0,0]\n",
    "par_set = [[[10,10],1500], [[10, 10, 10],1500]]\n",
    "for X_train, T_train, X_val, T_val in part_zy(X2, T2):\n",
    "    #Neural network logistic regression\n",
    "    for i in range(len(par_set)):\n",
    "        model_nn_2_2[i] = trainNN(X_train, T_train, par_set[i])\n",
    "        perc_nn_2_2[i].append(evaluateNN(model_nn_2_2[i], X_val, T_val))\n",
    "\n",
    "print(perc_nn_2_2)"
   ]
  },
  {
   "cell_type": "markdown",
   "metadata": {},
   "source": [
    "Adding more hidden layers did not improve the prediction very much, but we can try increasing the number of iterations to see if we can achieve better results. I choose 1 hidden layer as the model to prevent overfitting."
   ]
  },
  {
   "cell_type": "code",
   "execution_count": 24,
   "metadata": {
    "collapsed": false,
    "scrolled": true
   },
   "outputs": [
    {
     "name": "stdout",
     "output_type": "stream",
     "text": [
      "[81.64705882352942, 83.05882352941177, 77.88235294117646, 78.58823529411765, 81.2206572769953]\n"
     ]
    }
   ],
   "source": [
    "perc_nn_2_3 = []\n",
    "for X_train, T_train, X_val, T_val in part_zy(X2, T2):\n",
    "    #Neural network logistic regression\n",
    "    model_nn_2_3 = trainNN(X_train, T_train, [[10],3000])\n",
    "    perc_nn_2_3.append(evaluateNN(model_nn_2_3, X_val, T_val))\n",
    "\n",
    "print(perc_nn_2_3)"
   ]
  },
  {
   "cell_type": "markdown",
   "metadata": {},
   "source": [
    "Next I analyze the neural network logistic regression (perc_nn_1_3) from several aspects, including looking at the likelihood with iterations, layer matrix and the confusion matrix."
   ]
  },
  {
   "cell_type": "code",
   "execution_count": 25,
   "metadata": {
    "collapsed": false
   },
   "outputs": [
    {
     "data": {
      "text/plain": [
       "[<matplotlib.lines.Line2D at 0x7fb4a9547908>]"
      ]
     },
     "execution_count": 25,
     "metadata": {},
     "output_type": "execute_result"
    },
    {
     "data": {
      "image/png": "[encoded data removed]",
      "text/plain": [
       "<matplotlib.figure.Figure at 0x7fb4d7fe2518>"
      ]
     },
     "metadata": {},
     "output_type": "display_data"
    }
   ],
   "source": [
    "plt.plot(np.exp(-model_nn_2_3.getErrorTrace()))"
   ]
  },
  {
   "cell_type": "code",
   "execution_count": 26,
   "metadata": {
    "collapsed": false,
    "scrolled": false
   },
   "outputs": [
    {
     "name": "stdout",
     "output_type": "stream",
     "text": [
      "1.58320906867 8.88684399077e-05 244.140625\n"
     ]
    },
    {
     "data": {
      "image/png": "[encoded data removed]",
      "text/plain": [
       "<matplotlib.figure.Figure at 0x7fb4a9597c88>"
      ]
     },
     "metadata": {},
     "output_type": "display_data"
    }
   ],
   "source": [
    "plt.figure(figsize=(6,8))\n",
    "model_nn_2_3.draw(inputNames = xnames_2)"
   ]
  },
  {
   "cell_type": "markdown",
   "metadata": {},
   "source": [
    "Some of the attributes, such as width and Nzeros, do not seem to have important roles in the prediction. On the contrary, some features, such as Dl, Mean and Variance,are closely associated with the prediction by involving in the values of several hidden nodes with a high weight. "
   ]
  },
  {
   "cell_type": "code",
   "execution_count": 34,
   "metadata": {
    "collapsed": false,
    "scrolled": false
   },
   "outputs": [
    {
     "name": "stdout",
     "output_type": "stream",
     "text": [
      "       1    2    3    4    5    6    7    8    9   10\n",
      "    ------------------------------------------------------------\n",
      " 1 | 88.5  3.1  2.9  0    0.3  0.3  1.0  0    0    3.9   (384 / 384)\n",
      " 2 |  2.2 94.3  0.3  0.7  1.0  1.0  0.2  0    0    0.2   (579 / 579)\n",
      " 3 | 18.9  3.8 75.5  0    1.9  0    0    0    0    0     (53 / 53)\n",
      " 4 |  0    6.2  0   93.8  0    0    0    0    0    0     (81 / 81)\n",
      " 5 | 11.1  1.4  0    1.4 81.9  0    0    0    0    4.2   (72 / 72)\n",
      " 6 |  0.6  3.0  0    0.3  0   93.1  2.4  0.6  0    0     (332 / 332)\n",
      " 7 |  1.2  0.4  0    0    0    2.0 95.6  0.4  0    0.4   (252 / 252)\n",
      " 8 |  0    0    0    0    0    0    0.9 99.1  0    0     (107 / 107)\n",
      " 9 |  0    0    0    0    0    0    0    0   91.3  8.7   (69 / 69)\n",
      "10 |  5.6  0.5  0    0    0    0    0    0    2.0 91.9   (197 / 197)\n",
      "       1    2    3    4    5    6    7    8    9   10\n",
      "    ------------------------------------------------------------\n",
      " 1 | 88.5  3.1  2.9  0    0.3  0.3  1.0  0    0    3.9   (384 / 384)\n",
      " 2 |  2.2 94.3  0.3  0.7  1.0  1.0  0.2  0    0    0.2   (579 / 579)\n",
      " 3 | 18.9  3.8 75.5  0    1.9  0    0    0    0    0     (53 / 53)\n",
      " 4 |  0    6.2  0   93.8  0    0    0    0    0    0     (81 / 81)\n",
      " 5 | 11.1  1.4  0    1.4 81.9  0    0    0    0    4.2   (72 / 72)\n",
      " 6 |  0.6  3.0  0    0.3  0   93.1  2.4  0.6  0    0     (332 / 332)\n",
      " 7 |  1.2  0.4  0    0    0    2.0 95.6  0.4  0    0.4   (252 / 252)\n",
      " 8 |  0    0    0    0    0    0    0.9 99.1  0    0     (107 / 107)\n",
      " 9 |  0    0    0    0    0    0    0    0   91.3  8.7   (69 / 69)\n",
      "10 |  5.6  0.5  0    0    0    0    0    0    2.0 91.9   (197 / 197)\n"
     ]
    }
   ],
   "source": [
    "Ptest_2,Prtest_2,_= model_nn_2_3.use(X2,allOutputs=True)\n",
    "ml.printConfusionMatrix( ml.confusionMatrix(T2,Ptest_2,classes_2), classes_2)"
   ]
  },
  {
   "cell_type": "markdown",
   "metadata": {},
   "source": [
    "Overall, the neural network logistic model predicts the results well. The only confusion the model has is with the first a few clases, especially with class 3. This is not surprising considering that there are only 53 samples in class 3. Therefore increasing the number of samples may improve prediction accuracy. "
   ]
  },
  {
   "cell_type": "markdown",
   "metadata": {},
   "source": [
    "In summary, LLR is a slightly better model than non-linear logistic regression, and both of them perform better than LDA."
   ]
  },
  {
   "cell_type": "markdown",
   "metadata": {},
   "source": [
    "## Results\n",
    "\n",
    "In this section, we will be looking for\n",
    "\n",
    "* clear explanations of each function;\n",
    "* experiments with two different data sets with descriptions of the data;\n",
    "* discussion of each result, including\n",
    "  * accuracies as percent correctly classified,\n",
    "  * best parameter values,\n",
    "  * some analysis of each classification algorithm and how it is classifying the data by examining the $\\mu$ values for LDA, and the first layer's weight values for the neural networks;\n",
    "* and discuss which algorithm works best for each data set."
   ]
  },
  {
   "cell_type": "markdown",
   "metadata": {},
   "source": [
    "## Grading\n",
    "\n",
    "Your notebook will be run and graded automatically. Download [A4grader.tar](http://www.cs.colostate.edu/~anderson/cs480/notebooks/A4grader.tar)  and extract A4grader.py from it. Run the code in the following cell to demonstrate an example grading session. You should see a perfect score of 80/100 if your functions are defined correctly. \n",
    "\n",
    "The remaining 20% will be based on your writing.  Be sure to explain each function, and details of the results summarized in the above section. "
   ]
  },
  {
   "cell_type": "code",
   "execution_count": 38,
   "metadata": {
    "collapsed": false
   },
   "outputs": [
    {
     "name": "stdout",
     "output_type": "stream",
     "text": [
      "\n",
      "   Testing   model = trainLDA(X,T)\n",
      "             accuracy = evaluateLDA(model,X,T)\n",
      "\n",
      "20/20 points. Accuracy is within 10 of correct value 50%\n",
      "\n",
      "   Testing   model = trainNN(X,T, [[5],100])\n",
      "             accuracy = evaluateNN(model,X,T)\n",
      "\n",
      "30/30 points. Accuracy is within 10 of correct value 100%\n",
      "\n",
      "  Testing\n",
      "    resultsNN = ml.trainValidateTestKFoldsClassification( trainNN,evaluateNN, X,T, \n",
      "                                                          [ [ [0], 5], [ [10], 100] ],\n",
      "                                                          nFolds=3, shuffle=False,verbose=False)\n",
      "    bestParms = [row[0] for row in resultsNN]\n",
      "\n",
      "\n",
      "30/30 points. You correctly find the best parameters to be [[10],100] for each fold.\n",
      "\n",
      "A4 CODING GRADE is 80/80\n",
      "\n",
      "A4 WRITING GRADE is ??/20\n",
      "\n",
      "A4 FINAL GRADE is ??/100\n",
      "\n",
      "Remember, this python script is just an example of how your code will be graded.\n",
      "Do not be satisfied with an 80% from running this script.  Write and run additional\n",
      "tests of your own design.\n"
     ]
    }
   ],
   "source": [
    "%run -i A4grader.py"
   ]
  }
 ],
 "metadata": {
  "kernelspec": {
   "display_name": "Python 3",
   "language": "python",
   "name": "python3"
  },
  "language_info": {
   "codemirror_mode": {
    "name": "ipython",
    "version": 3
   },
   "file_extension": ".py",
   "mimetype": "text/x-python",
   "name": "python",
   "nbconvert_exporter": "python",
   "pygments_lexer": "ipython3",
   "version": "3.6.0"
  }
 },
 "nbformat": 4,
 "nbformat_minor": 0
}
